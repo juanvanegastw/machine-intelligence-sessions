{
 "cells": [
  {
   "cell_type": "markdown",
   "metadata": {},
   "source": [
    "### Requerimientos\n",
    "Para crear el ambiente correr en la consola\n",
    "```\n",
    "$ python3 -m venv algebra-lineal-with-python\n",
    "$ algebra-lineal-with-python/bin/activate\n",
    "$ pip3 install numpy\n",
    "```"
   ]
  },
  {
   "cell_type": "code",
   "execution_count": 12,
   "metadata": {},
   "outputs": [],
   "source": [
    "import numpy as np"
   ]
  },
  {
   "cell_type": "markdown",
   "metadata": {},
   "source": [
    "### Creando escalares"
   ]
  },
  {
   "cell_type": "code",
   "execution_count": 7,
   "metadata": {},
   "outputs": [
    {
     "name": "stdout",
     "output_type": "stream",
     "text": [
      "Creando escalares\n",
      "2\n",
      "3.1416\n"
     ]
    }
   ],
   "source": [
    "print(\"Creando escalares\")\n",
    "a = 2 # Escalar tipo 'Int'\n",
    "b = 3.1416 # Escalar tipo 'Float'\n",
    "print(a)\n",
    "print(b)"
   ]
  },
  {
   "cell_type": "markdown",
   "metadata": {},
   "source": [
    "### Creando vectores"
   ]
  },
  {
   "cell_type": "code",
   "execution_count": 9,
   "metadata": {},
   "outputs": [
    {
     "name": "stdout",
     "output_type": "stream",
     "text": [
      "Creando vectores\n"
     ]
    }
   ],
   "source": [
    "print(\"Creando vectores\")"
   ]
  },
  {
   "cell_type": "markdown",
   "metadata": {},
   "source": [
    "#### 1.- Convirtiendo una lista Python en un NumPy Array"
   ]
  },
  {
   "cell_type": "code",
   "execution_count": 14,
   "metadata": {},
   "outputs": [
    {
     "name": "stdout",
     "output_type": "stream",
     "text": [
      "[1 2 3 4]\n"
     ]
    }
   ],
   "source": [
    "a_lista = [1,2,3,4]\n",
    "a_array = np.array(a_lista)\n",
    "print(a_array)\n",
    "print(a_lista)"
   ]
  },
  {
   "cell_type": "markdown",
   "metadata": {},
   "source": [
    "#### 2.- Creandolo directamente en NumPy"
   ]
  },
  {
   "cell_type": "code",
   "execution_count": 16,
   "metadata": {},
   "outputs": [
    {
     "name": "stdout",
     "output_type": "stream",
     "text": [
      "[1 2 3 4]\n"
     ]
    }
   ],
   "source": [
    "b_array = np.array([5,6,7])\n",
    "print(a_array)"
   ]
  },
  {
   "cell_type": "markdown",
   "metadata": {},
   "source": [
    "### Creando matrices"
   ]
  },
  {
   "cell_type": "code",
   "execution_count": 19,
   "metadata": {},
   "outputs": [
    {
     "name": "stdout",
     "output_type": "stream",
     "text": [
      "Creando matrices\n",
      "Forma 1\n",
      "[[3 5]\n",
      " [1 0]]\n"
     ]
    }
   ],
   "source": [
    "print(\"Creando matrices\")\n",
    "print(\"Forma 1\")\n",
    "A = np.matrix([\n",
    "    [3, 5],\n",
    "    [1, 0]\n",
    "])\n",
    "print(A)"
   ]
  },
  {
   "cell_type": "code",
   "execution_count": 20,
   "metadata": {},
   "outputs": [
    {
     "name": "stdout",
     "output_type": "stream",
     "text": [
      "Forma 2\n",
      "[[1 2]\n",
      " [1 2]\n",
      " [1 2]]\n"
     ]
    }
   ],
   "source": [
    "print(\"Forma 2\")\n",
    "matrix_object = np.mat([[1, 2],[1, 2],[1, 2]])\n",
    "print(matrix_object)"
   ]
  },
  {
   "cell_type": "code",
   "execution_count": 21,
   "metadata": {},
   "outputs": [
    {
     "name": "stdout",
     "output_type": "stream",
     "text": [
      "Forma 3\n",
      "[[1 2]\n",
      " [3 4]\n",
      " [5 6]]\n"
     ]
    }
   ],
   "source": [
    "print(\"Forma 3\")\n",
    "matrix = np.array([[1, 2],[3, 4],[5, 6]])\n",
    "print(matrix)"
   ]
  },
  {
   "cell_type": "markdown",
   "metadata": {},
   "source": [
    "#### Podemos 'capturar' un determinado valor seleccionando su posición dentro de la matriz"
   ]
  },
  {
   "cell_type": "code",
   "execution_count": null,
   "metadata": {},
   "outputs": [],
   "source": [
    "print(matrix[2][0]) ##Devuelve: 5"
   ]
  },
  {
   "cell_type": "markdown",
   "metadata": {},
   "source": [
    "### Operaciones con vectores"
   ]
  },
  {
   "cell_type": "code",
   "execution_count": null,
   "metadata": {},
   "outputs": [],
   "source": [
    "print(\"Operando con vectores\""
   ]
  },
  {
   "cell_type": "markdown",
   "metadata": {},
   "source": [
    "#### Suma de vectores"
   ]
  },
  {
   "cell_type": "code",
   "execution_count": 22,
   "metadata": {},
   "outputs": [
    {
     "name": "stdout",
     "output_type": "stream",
     "text": [
      "Suma de vectores\n",
      "[5 9]\n"
     ]
    }
   ],
   "source": [
    "print(\"Suma de vectores\")\n",
    "v = np.array([3, 7])\n",
    "u = np.array([2, 2])\n",
    "print(v + u)"
   ]
  },
  {
   "cell_type": "markdown",
   "metadata": {},
   "source": [
    "#### Escalar por Vector"
   ]
  },
  {
   "cell_type": "code",
   "execution_count": 23,
   "metadata": {},
   "outputs": [
    {
     "name": "stdout",
     "output_type": "stream",
     "text": [
      "Escalar por Vector\n",
      "[12  3 21]\n"
     ]
    }
   ],
   "source": [
    "print(\"Escalar por Vector\")\n",
    "m = np.array([4,1,7])\n",
    "e = 3\n",
    "mul = e * m\n",
    "print(mul)"
   ]
  },
  {
   "cell_type": "markdown",
   "metadata": {},
   "source": [
    "#### Producto Punto"
   ]
  },
  {
   "cell_type": "code",
   "execution_count": 24,
   "metadata": {},
   "outputs": [
    {
     "name": "stdout",
     "output_type": "stream",
     "text": [
      "Producto Punto\n",
      "Forma 1\n",
      "20\n"
     ]
    }
   ],
   "source": [
    "print(\"Producto Punto\")\n",
    "print(\"Forma 1\")\n",
    "v = np.array([3, 7])\n",
    "u = np.array([2, 2])\n",
    "mul = np.dot(v,u)\n",
    "print(mul)"
   ]
  },
  {
   "cell_type": "code",
   "execution_count": 25,
   "metadata": {},
   "outputs": [
    {
     "name": "stdout",
     "output_type": "stream",
     "text": [
      "Forma 2\n",
      "20\n"
     ]
    }
   ],
   "source": [
    "print(\"Forma 2\")\n",
    "v = np.array([3, 7])\n",
    "u = np.array([2, 2])\n",
    "print(v.dot(u))"
   ]
  },
  {
   "cell_type": "markdown",
   "metadata": {},
   "source": [
    "#### Norma o Magnitud de un vector"
   ]
  },
  {
   "cell_type": "code",
   "execution_count": 26,
   "metadata": {},
   "outputs": [
    {
     "name": "stdout",
     "output_type": "stream",
     "text": [
      "Norma o Magnitud de un vector\n",
      "7.874007874011811\n"
     ]
    }
   ],
   "source": [
    "print(\"Norma o Magnitud de un vector\")\n",
    "v = np.array([3, 2, 7])\n",
    "print(np.linalg.norm(v))"
   ]
  },
  {
   "cell_type": "markdown",
   "metadata": {},
   "source": [
    "#### Vector unitario"
   ]
  },
  {
   "cell_type": "code",
   "execution_count": 27,
   "metadata": {},
   "outputs": [
    {
     "name": "stdout",
     "output_type": "stream",
     "text": [
      "Vector unitario\n",
      "[0.38411064 0.76822128 0.51214752]\n"
     ]
    }
   ],
   "source": [
    "print(\"Vector unitario\")\n",
    "def unit_vector(v):\n",
    "    return v / np.linalg.norm(v)\n",
    "\n",
    "u = np.array([3, 6, 4])\n",
    "print(unit_vector(u))"
   ]
  },
  {
   "cell_type": "markdown",
   "metadata": {},
   "source": [
    "#### Ángulos entre vectores"
   ]
  },
  {
   "cell_type": "code",
   "execution_count": 28,
   "metadata": {},
   "outputs": [
    {
     "name": "stdout",
     "output_type": "stream",
     "text": [
      "Ángulos entre vectores\n",
      "29.152519407030084\n"
     ]
    }
   ],
   "source": [
    "print(\"Ángulos entre vectores\")\n",
    "def angle_between(v1, v2):\n",
    "    dot_pr = v1.dot(v2)\n",
    "    norms = np.linalg.norm(v1) * np.linalg.norm(v2)\n",
    "    return np.rad2deg(np.arccos(dot_pr / norms))\n",
    "\n",
    "v = np.array([1, 4, 5])\n",
    "u = np.array([2, 1, 5])\n",
    "print(angle_between(v, u))"
   ]
  },
  {
   "cell_type": "markdown",
   "metadata": {},
   "source": [
    "### Operaciones con matrives"
   ]
  },
  {
   "cell_type": "markdown",
   "metadata": {},
   "source": [
    "#### Suma de matrices"
   ]
  },
  {
   "cell_type": "code",
   "execution_count": 29,
   "metadata": {},
   "outputs": [
    {
     "name": "stdout",
     "output_type": "stream",
     "text": [
      "Suma de matrices\n",
      "[[5 2]\n",
      " [2 2]]\n"
     ]
    }
   ],
   "source": [
    "print(\"Suma de matrices\")\n",
    "A = np.matrix([\n",
    "    [3, 5],\n",
    "    [1, 0]\n",
    "])\n",
    "B = np.matrix([\n",
    "    [2, -3],\n",
    "    [1, 2]\n",
    "])\n",
    "print(A + B)"
   ]
  },
  {
   "cell_type": "markdown",
   "metadata": {},
   "source": [
    "#### Escalar por matriz"
   ]
  },
  {
   "cell_type": "code",
   "execution_count": 30,
   "metadata": {},
   "outputs": [
    {
     "name": "stdout",
     "output_type": "stream",
     "text": [
      "Escalar por matriz\n",
      "[[ 6 10]\n",
      " [ 2  0]]\n"
     ]
    }
   ],
   "source": [
    "print(\"Escalar por matriz\")\n",
    "A = np.matrix([\n",
    "    [3, 5],\n",
    "    [1, 0]\n",
    "])\n",
    "print(2 * A)"
   ]
  },
  {
   "cell_type": "markdown",
   "metadata": {},
   "source": [
    "#### Multiplicación de matrices"
   ]
  },
  {
   "cell_type": "code",
   "execution_count": 31,
   "metadata": {},
   "outputs": [
    {
     "name": "stdout",
     "output_type": "stream",
     "text": [
      "Multiplicación de matrices\n",
      "[[10 14]\n",
      " [ 2  2]]\n"
     ]
    }
   ],
   "source": [
    "print(\"Multiplicación de matrices\")\n",
    "A = np.matrix([\n",
    "    [3, 4],\n",
    "    [1, 0]\n",
    "])\n",
    "B = np.matrix([\n",
    "    [2, 2],\n",
    "    [1, 2]\n",
    "])\n",
    "print(A.dot(B))"
   ]
  },
  {
   "cell_type": "markdown",
   "metadata": {},
   "source": [
    "### Producto Hadamard"
   ]
  },
  {
   "cell_type": "code",
   "execution_count": 35,
   "metadata": {},
   "outputs": [
    {
     "name": "stdout",
     "output_type": "stream",
     "text": [
      "Producto Hadamard\n"
     ]
    }
   ],
   "source": [
    "print(\"Producto Hadamard\")\n",
    "a = np.array([[1,2],[3,4]])\n",
    "b = np.array([[5,6],[7,8]])\n"
   ]
  },
  {
   "cell_type": "markdown",
   "metadata": {},
   "source": [
    "#### La multiplicación se puede realizar con multiply de NumPy y también de manera directa usando la multiplicación Python (*)\n"
   ]
  },
  {
   "cell_type": "code",
   "execution_count": 37,
   "metadata": {},
   "outputs": [
    {
     "name": "stdout",
     "output_type": "stream",
     "text": [
      "Forma 1\n",
      "[[ 5 12]\n",
      " [21 32]]\n"
     ]
    }
   ],
   "source": [
    "print(\"Forma 1\")\n",
    "mul = np.multiply(a,b)\n",
    "##Imprimimos mul para ver la matriz respuesta\n",
    "print(mul) ##Devuelve: array([[ 5, 12],[21, 32]])\n"
   ]
  },
  {
   "cell_type": "code",
   "execution_count": 38,
   "metadata": {},
   "outputs": [
    {
     "name": "stdout",
     "output_type": "stream",
     "text": [
      "Forma 2\n",
      "[[ 5 12]\n",
      " [21 32]]\n"
     ]
    }
   ],
   "source": [
    "print(\"Forma 2\")\n",
    "print(a*b)"
   ]
  },
  {
   "cell_type": "markdown",
   "metadata": {},
   "source": [
    "## Tipos de matrices"
   ]
  },
  {
   "cell_type": "markdown",
   "metadata": {},
   "source": [
    "### Matriz Identidad"
   ]
  },
  {
   "cell_type": "code",
   "execution_count": 39,
   "metadata": {},
   "outputs": [
    {
     "name": "stdout",
     "output_type": "stream",
     "text": [
      "Matriz Identidad\n"
     ]
    }
   ],
   "source": [
    "print(\"Matriz Identidad\")"
   ]
  },
  {
   "cell_type": "markdown",
   "metadata": {},
   "source": [
    "#### Declaramos la matriz identidad con identity de Numpy"
   ]
  },
  {
   "cell_type": "code",
   "execution_count": 40,
   "metadata": {},
   "outputs": [
    {
     "name": "stdout",
     "output_type": "stream",
     "text": [
      "Forma 1\n",
      "[[1. 0. 0. 0. 0.]\n",
      " [0. 1. 0. 0. 0.]\n",
      " [0. 0. 1. 0. 0.]\n",
      " [0. 0. 0. 1. 0.]\n",
      " [0. 0. 0. 0. 1.]]\n"
     ]
    }
   ],
   "source": [
    "print(\"Forma 1\")\n",
    "m_identidad = np.identity(5) #Devuelve la matriz identidad de tamaño 5x5\n",
    "print(m_identidad)"
   ]
  },
  {
   "cell_type": "code",
   "execution_count": 41,
   "metadata": {},
   "outputs": [
    {
     "name": "stdout",
     "output_type": "stream",
     "text": [
      "Forma 2\n",
      "[[1. 0. 0.]\n",
      " [0. 1. 0.]\n",
      " [0. 0. 1.]]\n"
     ]
    }
   ],
   "source": [
    "print(\"Forma 2\")\n",
    "A = np.eye(3)\n",
    "print(A)"
   ]
  },
  {
   "cell_type": "code",
   "execution_count": 42,
   "metadata": {},
   "outputs": [
    {
     "name": "stdout",
     "output_type": "stream",
     "text": [
      "Matriz identidad de tipo float\n",
      "[[1. 0.]\n",
      " [0. 1.]]\n"
     ]
    }
   ],
   "source": [
    "print(\"Matriz identidad de tipo float\")\n",
    "B = np.eye(2, dtype = float)\n",
    "print(B)"
   ]
  },
  {
   "cell_type": "code",
   "execution_count": 44,
   "metadata": {},
   "outputs": [
    {
     "name": "stdout",
     "output_type": "stream",
     "text": [
      "Especificando número de filas y columnas\n",
      "[[1. 0. 0. 0. 0.]\n",
      " [0. 1. 0. 0. 0.]\n",
      " [0. 0. 1. 0. 0.]\n",
      " [0. 0. 0. 1. 0.]]\n"
     ]
    }
   ],
   "source": [
    "print(\"Especificando número de filas y columnas\")\n",
    "C= np.eye(4, 5)\n",
    "print(C)"
   ]
  },
  {
   "cell_type": "code",
   "execution_count": 45,
   "metadata": {},
   "outputs": [],
   "source": [
    "C = np.eye(4, 5, k = -1)"
   ]
  },
  {
   "cell_type": "markdown",
   "metadata": {},
   "source": [
    "## Matriz Transpuesta"
   ]
  },
  {
   "cell_type": "code",
   "execution_count": 50,
   "metadata": {},
   "outputs": [
    {
     "name": "stdout",
     "output_type": "stream",
     "text": [
      "Matriz Transpuesta\n"
     ]
    }
   ],
   "source": [
    "print(\"Matriz Transpuesta\")"
   ]
  },
  {
   "cell_type": "code",
   "execution_count": 51,
   "metadata": {},
   "outputs": [
    {
     "name": "stdout",
     "output_type": "stream",
     "text": [
      "Matriz 1\n",
      "[[3 1]\n",
      " [4 0]]\n"
     ]
    }
   ],
   "source": [
    "print(\"Matriz 1\")\n",
    "A = np.matrix([\n",
    "    [3, 4],\n",
    "    [1, 0]\n",
    "])\n",
    "print(A.T)"
   ]
  },
  {
   "cell_type": "code",
   "execution_count": 52,
   "metadata": {},
   "outputs": [
    {
     "name": "stdout",
     "output_type": "stream",
     "text": [
      "Matriz 2\n",
      "[[1 3 5]\n",
      " [2 4 6]]\n"
     ]
    }
   ],
   "source": [
    "print(\"Matriz 2\")\n",
    "A = np.array([[1, 2], [3, 4], [5, 6]])\n",
    "A_t = A.T\n",
    "print(A_t)"
   ]
  },
  {
   "cell_type": "markdown",
   "metadata": {},
   "source": [
    "## Determinante"
   ]
  },
  {
   "cell_type": "code",
   "execution_count": 53,
   "metadata": {},
   "outputs": [
    {
     "name": "stdout",
     "output_type": "stream",
     "text": [
      "Determinante\n",
      "16.000000000000007\n"
     ]
    }
   ],
   "source": [
    "print(\"Determinante\")\n",
    "A = np.matrix([\n",
    "    [3, 2],\n",
    "    [1, 6]\n",
    "])\n",
    "print(np.linalg.det(A))"
   ]
  },
  {
   "cell_type": "markdown",
   "metadata": {},
   "source": [
    "## Matriz Inversa"
   ]
  },
  {
   "cell_type": "code",
   "execution_count": 55,
   "metadata": {},
   "outputs": [
    {
     "name": "stdout",
     "output_type": "stream",
     "text": [
      "Matriz Inversa\n",
      "[[ 7. -3. -3.]\n",
      " [-1.  1.  0.]\n",
      " [-1.  0.  1.]]\n"
     ]
    }
   ],
   "source": [
    "print(\"Matriz Inversa\")\n",
    "#Declaramos la matriz A\n",
    "A = np.array(([1,3,3],[1,4,3],[1,3,4]))\n",
    "#Invertimos la matriz usando NumPy\n",
    "A_inv = np.linalg.inv(A)\n",
    "#Comprobamos la matriz inversa\n",
    "print(A_inv)\n",
    "#Devuelve la matriz inversa de A:"
   ]
  },
  {
   "cell_type": "code",
   "execution_count": 56,
   "metadata": {},
   "outputs": [
    {
     "name": "stdout",
     "output_type": "stream",
     "text": [
      "Segunda matriz inversa\n",
      "[[ 4. -3.]\n",
      " [-5.  4.]]\n"
     ]
    }
   ],
   "source": [
    "print(\"Segunda matriz inversa\")\n",
    "A = np.matrix([\n",
    "    [4, 3],\n",
    "    [5, 4]\n",
    "])\n",
    "print(np.linalg.inv(A))"
   ]
  },
  {
   "cell_type": "code",
   "execution_count": null,
   "metadata": {},
   "outputs": [],
   "source": []
  }
 ],
 "metadata": {
  "kernelspec": {
   "display_name": "Python 3",
   "language": "python",
   "name": "python3"
  },
  "language_info": {
   "codemirror_mode": {
    "name": "ipython",
    "version": 3
   },
   "file_extension": ".py",
   "mimetype": "text/x-python",
   "name": "python",
   "nbconvert_exporter": "python",
   "pygments_lexer": "ipython3",
   "version": "3.7.7"
  }
 },
 "nbformat": 4,
 "nbformat_minor": 4
}
